{
 "cells": [
  {
   "cell_type": "code",
   "execution_count": 1,
   "id": "c47c1ed5",
   "metadata": {},
   "outputs": [],
   "source": [
    "using LinearAlgebra"
   ]
  },
  {
   "cell_type": "code",
   "execution_count": 2,
   "id": "f310ddc3",
   "metadata": {},
   "outputs": [],
   "source": [
    "mutable struct BiCGSTAB{T}\n",
    "  A::AbstractMatrix{T}\n",
    "  b::Vector{T}\n",
    "  x::Vector{T}\n",
    "  r::Vector{T}\n",
    "  r_hat::Vector{T}\n",
    "  p::Vector{T}\n",
    "  v::Vector{T}\n",
    "  h::Vector{T}\n",
    "  s::Vector{T}\n",
    "  t::Vector{T}\n",
    "  alpha::T\n",
    "  omega::T\n",
    "  rho_old::T\n",
    "  tol::T\n",
    "  max_iter::Int\n",
    "end"
   ]
  },
  {
   "cell_type": "code",
   "execution_count": 17,
   "id": "2275862e",
   "metadata": {},
   "outputs": [
    {
     "data": {
      "text/plain": [
       "initialize_state (generic function with 1 method)"
      ]
     },
     "metadata": {},
     "output_type": "display_data"
    }
   ],
   "source": [
    "function initialize_state(A, b; tol=1e-8, max_iter=30)\n",
    "  T = eltype(b)\n",
    "  n = length(b)\n",
    "  x = zeros(T, n)\n",
    "  r = b - A * x\n",
    "  return BiCGSTAB(\n",
    "      A, b, x, r, rand(T,n),\n",
    "      zeros(T, n), zeros(T, n),\n",
    "      zeros(T, n), zeros(T, n), zeros(T, n),\n",
    "      one(T), one(T), one(T),\n",
    "      tol, max_iter\n",
    "  )\n",
    "end"
   ]
  },
  {
   "cell_type": "code",
   "execution_count": 4,
   "id": "d08e6de0",
   "metadata": {},
   "outputs": [
    {
     "data": {
      "text/plain": [
       "update_p! (generic function with 1 method)"
      ]
     },
     "metadata": {},
     "output_type": "display_data"
    }
   ],
   "source": [
    "function update_p!(state, rho_new, iter)\n",
    "  if iter == 1\n",
    "      state.p .= state.r\n",
    "  else\n",
    "      beta = (rho_new / state.rho_old) * (state.alpha / state.omega)\n",
    "      state.p .= state.r .+ beta .* (state.p .- state.omega .* state.v)\n",
    "  end\n",
    "end"
   ]
  },
  {
   "cell_type": "code",
   "execution_count": null,
   "id": "14b775b4",
   "metadata": {},
   "outputs": [
    {
     "data": {
      "text/plain": [
       "step! (generic function with 1 method)"
      ]
     },
     "metadata": {},
     "output_type": "display_data"
    }
   ],
   "source": [
    "function step!(state)\n",
    "  A = state.A\n",
    "  r_hat = state.r_hat\n",
    "  r = state.r\n",
    "\n",
    "  rho_new = dot(r_hat, r)\n",
    "  if abs(rho_new) < 1e-14\n",
    "      error(\"Breakdown: rho_new == 0\")\n",
    "  end\n",
    "\n",
    "  update_p!(state, rho_new, 1) \n",
    "  state.v .= A * state.p\n",
    "  state.alpha = rho_new / dot(r_hat, state.v)\n",
    "\n",
    "  state.h .= state.x .+ state.alpha .* state.p\n",
    "  state.s .= state.r .- state.alpha .* state.v\n",
    "\n",
    "  if norm(state.s) < state.tol\n",
    "      state.x .= state.h\n",
    "      return true  # converged\n",
    "  end\n",
    "\n",
    "  state.t .= A * state.s\n",
    "  denom = dot(state.t, state.t)\n",
    "  if denom == 0.0\n",
    "      error(\"Breakdown: t ⋅ t == 0\")\n",
    "  end\n",
    "\n",
    "  state.omega = dot(state.t, state.s) / denom\n",
    "  state.x .= state.h .+ state.omega .* state.s\n",
    "  state.r .= state.s .- state.omega .* state.t\n",
    "  state.rho_old = rho_new\n",
    "\n",
    "  return norm(state.r) < state.tol\n",
    "end"
   ]
  },
  {
   "cell_type": "code",
   "execution_count": null,
   "id": "251cf23a",
   "metadata": {},
   "outputs": [
    {
     "data": {
      "text/plain": [
       "solve_bicgstab! (generic function with 1 method)"
      ]
     },
     "metadata": {},
     "output_type": "display_data"
    }
   ],
   "source": [
    "function solve_bicgstab!(state)\n",
    "  if norm(state.r) < state.tol\n",
    "    println(\"Initial guess is already within tolerance.\")\n",
    "    return state.x, 0 \n",
    "end\n",
    "  for i in 1:state.max_iter\n",
    "      if step!(state)\n",
    "          println(\"Converged at step $i\")\n",
    "          return state.x, i\n",
    "      end\n",
    "  end\n",
    "  @warn \"Did not converge.\"\n",
    "  return state.x, state.max_iter\n",
    "end"
   ]
  }
 ],
 "metadata": {
  "kernelspec": {
   "display_name": "Julia 1.11.5",
   "language": "julia",
   "name": "julia-1.11"
  },
  "language_info": {
   "file_extension": ".jl",
   "mimetype": "application/julia",
   "name": "julia",
   "version": "1.11.5"
  }
 },
 "nbformat": 4,
 "nbformat_minor": 5
}
