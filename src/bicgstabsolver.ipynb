{
 "cells": [
  {
   "cell_type": "code",
   "execution_count": 2,
   "id": "c47c1ed5",
   "metadata": {},
   "outputs": [
    {
     "name": "stderr",
     "output_type": "stream",
     "text": [
      "\u001b[32m\u001b[1m   Resolving\u001b[22m\u001b[39m package versions...\n",
      "\u001b[32m\u001b[1m  No Changes\u001b[22m\u001b[39m to `~/.julia/environments/v1.11/Project.toml`\n",
      "\u001b[32m\u001b[1m  No Changes\u001b[22m\u001b[39m to `~/.julia/environments/v1.11/Manifest.toml`\n"
     ]
    }
   ],
   "source": [
    "using Pkg\n",
    "Pkg.add(\"BenchmarkTools\")\n",
    "using LinearAlgebra\n",
    "using BenchmarkTools"
   ]
  },
  {
   "cell_type": "code",
   "execution_count": 3,
   "id": "f310ddc3",
   "metadata": {},
   "outputs": [],
   "source": [
    "mutable struct BiCGSTAB_smth{T}\n",
    "  A::AbstractMatrix{T}\n",
    "  b::Vector{T}\n",
    "  x::Vector{T}\n",
    "  r::Vector{T}\n",
    "  r_hat::Vector{T}\n",
    "  p::Vector{T}\n",
    "  v::Vector{T}\n",
    "  h::Vector{T}\n",
    "  s::Vector{T}\n",
    "  t::Vector{T}\n",
    "  alpha::T\n",
    "  omega::T\n",
    "  rho_old::T\n",
    "  tol::T\n",
    "  max_iter::Int\n",
    "end"
   ]
  },
  {
   "cell_type": "code",
   "execution_count": 18,
   "id": "2275862e",
   "metadata": {},
   "outputs": [
    {
     "data": {
      "text/plain": [
       "initialize_state (generic function with 1 method)"
      ]
     },
     "metadata": {},
     "output_type": "display_data"
    }
   ],
   "source": [
    "function initialize_state(A, b; tol, max_iter)\n",
    "  T = eltype(b)\n",
    "  n = length(b)\n",
    "  x = zeros(T, n)\n",
    "  r = b - A * x\n",
    "  return BiCGSTAB_smth(\n",
    "      A, b, x, r, rand(T,n),\n",
    "      zeros(T, n), zeros(T, n),\n",
    "      zeros(T, n), zeros(T, n), zeros(T, n),\n",
    "      one(T), one(T), one(T),\n",
    "      tol, max_iter\n",
    "  )\n",
    "end"
   ]
  },
  {
   "cell_type": "code",
   "execution_count": 5,
   "id": "d08e6de0",
   "metadata": {},
   "outputs": [
    {
     "data": {
      "text/plain": [
       "update_p! (generic function with 1 method)"
      ]
     },
     "metadata": {},
     "output_type": "display_data"
    }
   ],
   "source": [
    "function update_p!(state, rho_new, iter)\n",
    "  if iter == 1\n",
    "      state.p .= state.r\n",
    "  else\n",
    "      beta = (rho_new / state.rho_old) * (state.alpha / state.omega)\n",
    "      state.p .= state.r .+ beta .* (state.p .- state.omega .* state.v)\n",
    "  end\n",
    "end"
   ]
  },
  {
   "cell_type": "code",
   "execution_count": 6,
   "id": "14b775b4",
   "metadata": {},
   "outputs": [
    {
     "data": {
      "text/plain": [
       "step! (generic function with 1 method)"
      ]
     },
     "metadata": {},
     "output_type": "display_data"
    }
   ],
   "source": [
    "function step!(state)\n",
    "  A = state.A\n",
    "  r_hat = state.r_hat\n",
    "  r = state.r\n",
    "\n",
    "  rho_new = dot(r_hat, r)\n",
    "  if abs(rho_new) < 1e-14\n",
    "      error(\"Breakdown: rho_new == 0\")\n",
    "  end\n",
    "\n",
    "  update_p!(state, rho_new, 1) \n",
    "  state.v .= A * state.p\n",
    "  state.alpha = rho_new / dot(r_hat, state.v)\n",
    "\n",
    "  state.h .= state.x .+ state.alpha .* state.p\n",
    "  state.s .= state.r .- state.alpha .* state.v\n",
    "\n",
    "  if norm(state.s) < state.tol\n",
    "      state.x .= state.h\n",
    "      return true  # converged\n",
    "  end\n",
    "\n",
    "  state.t .= A * state.s\n",
    "  denom = dot(state.t, state.t)\n",
    "  if denom == 0.0\n",
    "      error(\"Breakdown: t ⋅ t == 0\")\n",
    "  end\n",
    "\n",
    "  state.omega = dot(state.t, state.s) / denom\n",
    "  state.x .= state.h .+ state.omega .* state.s\n",
    "  state.r .= state.s .- state.omega .* state.t\n",
    "  state.rho_old = rho_new\n",
    "\n",
    "  return norm(state.r) < state.tol\n",
    "end\n"
   ]
  },
  {
   "cell_type": "code",
   "execution_count": 9,
   "id": "251cf23a",
   "metadata": {},
   "outputs": [
    {
     "data": {
      "text/plain": [
       "solve_bicgstab! (generic function with 1 method)"
      ]
     },
     "metadata": {},
     "output_type": "display_data"
    }
   ],
   "source": [
    "function solve_bicgstab!(state)\n",
    "  if norm(state.r) < state.tol\n",
    "    println(\"Initial guess is already within tolerance.\")\n",
    "    return state.x, 0 \n",
    "end\n",
    "  for i in 1:state.max_iter\n",
    "      if step!(state)\n",
    "          println(\"Converged at step $i\")\n",
    "          return state.x, i\n",
    "      end\n",
    "  end\n",
    "  @warn \"Did not converge.\"\n",
    "  return state.x, state.max_iter\n",
    "end"
   ]
  },
  {
   "cell_type": "code",
   "execution_count": null,
   "id": "6f422a2b",
   "metadata": {},
   "outputs": [
    {
     "name": "stdout",
     "output_type": "stream",
     "text": [
      "Converged at step 7\n",
      "\u001b[0m\u001b[1mTest Summary:                          | \u001b[22m\u001b[32m\u001b[1mPass  \u001b[22m\u001b[39m\u001b[36m\u001b[1mTotal  \u001b[22m\u001b[39m\u001b[0m\u001b[1mTime\u001b[22m\n",
      "BiCGSTAB solves small system correctly | \u001b[32m   2  \u001b[39m\u001b[36m    2  \u001b[39m\u001b[0m1.0s\n"
     ]
    },
    {
     "data": {
      "text/plain": [
       "Test.DefaultTestSet(\"BiCGSTAB solves small system correctly\", Any[], 2, false, false, true, 1.745423701475551e9, 1.745423702478149e9, false, \"/Users/eronagashi/distr_computing/serialBiCGSTAB/src/jl_notebook_cell_df34fa98e69747e1a8f8a730347b8e2f_X11sZmlsZQ==.jl\")"
      ]
     },
     "metadata": {},
     "output_type": "display_data"
    }
   ],
   "source": [
    "using Test \n",
    "\n",
    "@testset \"small system\" begin\n",
    "  A = [4.0 1.0; 1.0 3.0]\n",
    "  b = [1.0, 2.0]\n",
    "  x0 = zeros(2)\n",
    "  tol = 1e-8\n",
    "  max_iter = 100\n",
    "\n",
    "  state = initialize_state(A, b, tol=tol, max_iter=max_iter)\n",
    "  x, iters = solve_bicgstab!(state)\n",
    "\n",
    "  x_expected = A \\ b\n",
    "\n",
    "  @test isapprox(x, x_expected; atol=1e-4)\n",
    "  @test iters < max_iter\n",
    "end"
   ]
  },
  {
   "cell_type": "code",
   "execution_count": null,
   "id": "c4146f7b",
   "metadata": {},
   "outputs": [
    {
     "name": "stdout",
     "output_type": "stream",
     "text": [
      "Converged at step 7\n",
      "\u001b[0m\u001b[1mTest Summary:                    | \u001b[22m\u001b[32m\u001b[1mPass  \u001b[22m\u001b[39m\u001b[36m\u001b[1mTotal  \u001b[22m\u001b[39m\u001b[0m\u001b[1mTime\u001b[22m\n",
      "BiCGSTAB solves small 2x2 system | \u001b[32m   2  \u001b[39m\u001b[36m    2  \u001b[39m\u001b[0m0.0s\n"
     ]
    },
    {
     "data": {
      "text/plain": [
       "Test.DefaultTestSet(\"BiCGSTAB solves small 2x2 system\", Any[], 2, false, false, true, 1.745424046498745e9, 1.745424046508364e9, false, \"/Users/eronagashi/distr_computing/serialBiCGSTAB/src/jl_notebook_cell_df34fa98e69747e1a8f8a730347b8e2f_X20sZmlsZQ==.jl\")"
      ]
     },
     "metadata": {},
     "output_type": "display_data"
    }
   ],
   "source": [
    "@testset \"2x2 system\" begin\n",
    "  A = [4.0 1.0; 1.0 3.0]\n",
    "  b = [1.0, 2.0]\n",
    "  x0 = zeros(2)\n",
    "  state = initialize_state(A, b; tol=1e-8, max_iter=100)\n",
    "  x, iters = solve_bicgstab!(state)\n",
    "  x_expected = A \\ b\n",
    "  @test isapprox(x, x_expected; atol=1e-6)\n",
    "  @test iters < 100\n",
    "end"
   ]
  },
  {
   "cell_type": "code",
   "execution_count": 32,
   "id": "5da4d24d",
   "metadata": {},
   "outputs": [
    {
     "name": "stdout",
     "output_type": "stream",
     "text": [
      "Converged at step 1\n",
      "Initial guess is already a solution: \u001b[91m\u001b[1mTest Failed\u001b[22m\u001b[39m at \u001b[39m\u001b[1m/Users/eronagashi/distr_computing/serialBiCGSTAB/src/jl_notebook_cell_df34fa98e69747e1a8f8a730347b8e2f_X23sZmlsZQ==.jl:8\u001b[22m\n",
      "  Expression: iters == 0\n",
      "   Evaluated: 1 == 0\n",
      "\n",
      "Stacktrace:\n",
      " [1] \u001b[0m\u001b[1mmacro expansion\u001b[22m\n",
      "\u001b[90m   @\u001b[39m \u001b[90m~/.julia/juliaup/julia-1.11.5+0.aarch64.apple.darwin14/share/julia/stdlib/v1.11/Test/src/\u001b[39m\u001b[90m\u001b[4mTest.jl:679\u001b[24m\u001b[39m\u001b[90m [inlined]\u001b[39m\n",
      " [2] \u001b[0m\u001b[1mmacro expansion\u001b[22m\n",
      "\u001b[90m   @\u001b[39m \u001b[90m~/distr_computing/serialBiCGSTAB/src/\u001b[39m\u001b[90m\u001b[4mjl_notebook_cell_df34fa98e69747e1a8f8a730347b8e2f_X23sZmlsZQ==.jl:8\u001b[24m\u001b[39m\u001b[90m [inlined]\u001b[39m\n",
      " [3] \u001b[0m\u001b[1mmacro expansion\u001b[22m\n",
      "\u001b[90m   @\u001b[39m \u001b[90m~/.julia/juliaup/julia-1.11.5+0.aarch64.apple.darwin14/share/julia/stdlib/v1.11/Test/src/\u001b[39m\u001b[90m\u001b[4mTest.jl:1704\u001b[24m\u001b[39m\u001b[90m [inlined]\u001b[39m\n",
      " [4] top-level scope\n",
      "\u001b[90m   @\u001b[39m \u001b[90m~/distr_computing/serialBiCGSTAB/src/\u001b[39m\u001b[90m\u001b[4mjl_notebook_cell_df34fa98e69747e1a8f8a730347b8e2f_X23sZmlsZQ==.jl:2\u001b[24m\u001b[39m\n",
      "\u001b[0m\u001b[1mTest Summary:                       | \u001b[22m\u001b[32m\u001b[1mPass  \u001b[22m\u001b[39m\u001b[91m\u001b[1mFail  \u001b[22m\u001b[39m\u001b[36m\u001b[1mTotal  \u001b[22m\u001b[39m\u001b[0m\u001b[1mTime\u001b[22m\n",
      "Initial guess is already a solution | \u001b[32m   1  \u001b[39m\u001b[91m   1  \u001b[39m\u001b[36m    2  \u001b[39m\u001b[0m1.1s\n"
     ]
    },
    {
     "ename": "TestSetException",
     "evalue": "Some tests did not pass: 1 passed, 1 failed, 0 errored, 0 broken.",
     "output_type": "error",
     "traceback": [
      "Some tests did not pass: 1 passed, 1 failed, 0 errored, 0 broken.\n",
      "\n",
      "Stacktrace:\n",
      " [1] finish(ts::Test.DefaultTestSet; print_results::Bool)\n",
      "   @ Test ~/.julia/juliaup/julia-1.11.5+0.aarch64.apple.darwin14/share/julia/stdlib/v1.11/Test/src/Test.jl:1258\n",
      " [2] finish(ts::Test.DefaultTestSet)\n",
      "   @ Test ~/.julia/juliaup/julia-1.11.5+0.aarch64.apple.darwin14/share/julia/stdlib/v1.11/Test/src/Test.jl:1233\n",
      " [3] macro expansion\n",
      "   @ ~/.julia/juliaup/julia-1.11.5+0.aarch64.apple.darwin14/share/julia/stdlib/v1.11/Test/src/Test.jl:1720 [inlined]\n",
      " [4] top-level scope\n",
      "   @ ~/distr_computing/serialBiCGSTAB/src/jl_notebook_cell_df34fa98e69747e1a8f8a730347b8e2f_X23sZmlsZQ==.jl:2"
     ]
    }
   ],
   "source": [
    "@testset \"Initial guess is already a solution\" begin\n",
    "  A = Matrix{Float64}(I, 3, 3)\n",
    "  b = [1.0, 2.0, 3.0]\n",
    "  x0 = b\n",
    "  state = initialize_state(A, b,tol=1e-8, max_iter=10)\n",
    "  x, iters = solve_bicgstab!(state)\n",
    "  @test isapprox(x, b; atol=1e-10)\n",
    "  @test iters == 0\n",
    "end"
   ]
  }
 ],
 "metadata": {
  "kernelspec": {
   "display_name": "Julia 1.11.5",
   "language": "julia",
   "name": "julia-1.11"
  },
  "language_info": {
   "file_extension": ".jl",
   "mimetype": "application/julia",
   "name": "julia",
   "version": "1.11.5"
  }
 },
 "nbformat": 4,
 "nbformat_minor": 5
}
