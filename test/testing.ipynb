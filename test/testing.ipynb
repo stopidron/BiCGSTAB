{
 "cells": [
  {
   "cell_type": "code",
   "execution_count": null,
   "id": "90faee28",
   "metadata": {
    "vscode": {
     "languageId": "julia"
    }
   },
   "outputs": [],
   "source": [
    "#test 1\n",
    "A = [1.0  1.0;\n",
    "     1.0  1.0]\n",
    "b = [2.0, 2.0]\n",
    "\n",
    "x, i = bicgstab(A, b)"
   ]
  },
  {
   "cell_type": "code",
   "execution_count": null,
   "id": "cc3ceb1e",
   "metadata": {
    "vscode": {
     "languageId": "julia"
    }
   },
   "outputs": [],
   "source": [
    "#test 2\n",
    "A=I(3)\n",
    "b=[1.0,2.0,3.0]\n",
    "\n",
    "x, i = bicgstab(A, b)"
   ]
  },
  {
   "cell_type": "code",
   "execution_count": null,
   "id": "d91bc3b8",
   "metadata": {
    "vscode": {
     "languageId": "julia"
    }
   },
   "outputs": [],
   "source": [
    "#test 3\n",
    "A = [3.0 1.0;\n",
    "     1.0 2.0]\n",
    "     \n",
    "b = [5.0, 5.0] \n",
    "\n",
    "x, i = bicgstab(A, b)"
   ]
  },
  {
   "cell_type": "code",
   "execution_count": null,
   "id": "621d1c9f",
   "metadata": {
    "vscode": {
     "languageId": "julia"
    }
   },
   "outputs": [],
   "source": [
    "#test 3\n",
    "A = [4.0 1.0;\n",
    "     1.0 3.0]\n",
    "b = [1.0, 2.0]\n",
    "\n",
    "x, i = bicgstab(A, b)"
   ]
  },
  {
   "cell_type": "code",
   "execution_count": null,
   "id": "6709fd59",
   "metadata": {
    "vscode": {
     "languageId": "julia"
    }
   },
   "outputs": [],
   "source": [
    "#test 5\n",
    "A = [2.0 -1.0;\n",
    "     -1.0 2.0]\n",
    "b = [0.0, 0.0]\n",
    "\n",
    "x, i = bicgstab(A, b)"
   ]
  },
  {
   "cell_type": "code",
   "execution_count": null,
   "id": "ddb90415",
   "metadata": {
    "vscode": {
     "languageId": "julia"
    }
   },
   "outputs": [],
   "source": [
    "A = [1.0 -1.0;\n",
    "     -1.0 1.0]\n",
    "b = [10.0, 10.0]\n",
    "\n",
    "x, i = bicgstab(A, b)"
   ]
  }
 ],
 "metadata": {
  "language_info": {
   "name": "python"
  }
 },
 "nbformat": 4,
 "nbformat_minor": 5
}
