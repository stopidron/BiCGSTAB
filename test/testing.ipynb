{
 "cells": [
  {
   "cell_type": "code",
   "execution_count": null,
   "id": "90faee28",
   "metadata": {},
   "outputs": [],
   "source": [
    "#test 1\n",
    "A = [1.0  1.0;\n",
    "     1.0  1.0]\n",
    "b = [2.0, 2.0]\n",
    "\n",
    "state = initialize_state(A,b)\n",
    "solution, steps = solve_bicgstab!(state)"
   ]
  },
  {
   "cell_type": "code",
   "execution_count": null,
   "id": "cc3ceb1e",
   "metadata": {},
   "outputs": [],
   "source": [
    "#test 2\n",
    "A=I(3)\n",
    "b=[1.0,2.0,3.0]\n",
    "\n",
    "state = initialize_state(A,b)\n",
    "solution, steps = solve_bicgstab!(state)"
   ]
  },
  {
   "cell_type": "code",
   "execution_count": null,
   "id": "d91bc3b8",
   "metadata": {},
   "outputs": [],
   "source": [
    "#test 3\n",
    "A = [3.0 1.0;\n",
    "     1.0 2.0]\n",
    "b = [5.0, 5.0] \n",
    "\n",
    "state = initialize_state(A,b)\n",
    "solution, steps = solve_bicgstab!(state)"
   ]
  },
  {
   "cell_type": "code",
   "execution_count": null,
   "id": "621d1c9f",
   "metadata": {},
   "outputs": [],
   "source": [
    "#test 3\n",
    "A = [4.0 1.0;\n",
    "     1.0 3.0]\n",
    "b = [1.0, 2.0]\n",
    "\n",
    "state = initialize_state(A,b)\n",
    "solution, steps = solve_bicgstab!(state)"
   ]
  },
  {
   "cell_type": "code",
   "execution_count": 1,
   "id": "6709fd59",
   "metadata": {},
   "outputs": [
    {
     "ename": "UndefVarError",
     "evalue": "UndefVarError: `initialize_state` not defined in `Main`\nSuggestion: check for spelling errors or missing imports.",
     "output_type": "error",
     "traceback": [
      "UndefVarError: `initialize_state` not defined in `Main`\n",
      "Suggestion: check for spelling errors or missing imports.\n",
      "\n",
      "Stacktrace:\n",
      " [1] top-level scope\n",
      "   @ ~/distr_computing/serialBiCGSTAB/test/jl_notebook_cell_df34fa98e69747e1a8f8a730347b8e2f_W4sZmlsZQ==.jl:6"
     ]
    }
   ],
   "source": [
    "#test 5\n",
    "A = [2.0 -1.0;\n",
    "     -1.0 2.0]\n",
    "b = [0.0, 0.0]\n",
    "\n",
    "state = initialize_state(A,b)\n",
    "solution, steps = solve_bicgstab!(state)"
   ]
  },
  {
   "cell_type": "code",
   "execution_count": null,
   "id": "ddb90415",
   "metadata": {},
   "outputs": [],
   "source": [
    "A = [1.0 -1.0;\n",
    "     -1.0 1.0]\n",
    "b = [10.0, 10.0]\n",
    "\n",
    "state = initialize_state(A,b)\n",
    "solution, steps = solve_bicgstab!(state)"
   ]
  }
 ],
 "metadata": {
  "kernelspec": {
   "display_name": "Julia 1.11.5",
   "language": "julia",
   "name": "julia-1.11"
  },
  "language_info": {
   "file_extension": ".jl",
   "mimetype": "application/julia",
   "name": "julia",
   "version": "1.11.5"
  }
 },
 "nbformat": 4,
 "nbformat_minor": 5
}
